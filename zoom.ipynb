{
 "cells": [
  {
   "cell_type": "code",
   "execution_count": 1,
   "metadata": {},
   "outputs": [
    {
     "name": "stderr",
     "output_type": "stream",
     "text": [
      "/tmp/ipykernel_17229/534698632.py:1: DeprecationWarning: the imp module is deprecated in favour of importlib and slated for removal in Python 3.12; see the module's documentation for alternative uses\n",
      "  import imp\n"
     ]
    }
   ],
   "source": [
    "import imp\n",
    "from selenium import webdriver\n",
    "# import pyautogui as pag\n",
    "import selenium\n",
    "import time\n",
    "from selenium.webdriver.common.by import By\n",
    "\n"
   ]
  },
  {
   "cell_type": "code",
   "execution_count": 2,
   "metadata": {},
   "outputs": [
    {
     "name": "stdout",
     "output_type": "stream",
     "text": [
      "{'names': 'paul'}\n",
      "{'names': 'john'}\n",
      "{'names': 'aaryan'}\n",
      "{'names': 'aashif'}\n",
      "{'names': 'aashir'}\n",
      "{'names': 'aasif'}\n",
      "{'names': 'aasim'}\n",
      "{'names': 'aatif'}\n",
      "{'names': 'rukanah'}\n",
      "{'names': 'rushd'}\n",
      "{'names': 'rushdi'}\n",
      "{'names': 'sadeem'}\n",
      "{'names': 'sadid'}\n",
      "{'names': 'sadik'}\n",
      "{'names': 'MARIA TERESA'}\n",
      "{'names': 'ANA'}\n",
      "{'names': 'LAURA'}\n",
      "{'names': 'MARIA '}\n",
      "{'names': 'CRISTINA'}\n",
      "{'names': 'FRANCISCA'}\n",
      "{'names': 'MARTA'}\n",
      "{'names': 'ANTONIA'}\n",
      "{'names': 'DOLORES'}\n",
      "{'names': 'MARIA '}\n",
      "{'names': 'MARIA JOSE'}\n",
      "{'names': 'LUCIA'}\n",
      "{'names': 'MARIA ELENA'}\n",
      "{'names': 'MARIA ANTONIA'}\n",
      "{'names': 'CATALINA'}\n",
      "{'names': 'CONSUELO'}\n",
      "{'names': 'MARIA NIEVES'}\n",
      "{'names': 'LIDIA'}\n",
      "{'names': 'EMILIA'}\n",
      "{'names': 'ANTONIO'}\n",
      "{'names': 'JOSE'}\n",
      "{'names': 'MANUEL'}\n",
      "{'names': 'FRANCISCO'}\n",
      "{'names': 'JUAN'}\n",
      "{'names': 'DAVID'}\n",
      "{'names': 'JOSE ANTONIO'}\n",
      "{'names': 'JAVIER'}\n",
      "{'names': 'JOSE LUIS'}\n",
      "{'names': 'FRANCISCO JAVIER'}\n",
      "{'names': 'DANIEL'}\n",
      "{'names': 'JESUS'}\n",
      "{'names': 'CARLOS'}\n",
      "{'names': 'MIGUEL'}\n",
      "{'names': 'ALEJANDRO'}\n",
      "{'names': 'JOSE MANUEL'}\n",
      "{'names': 'RAFAEL'}\n",
      "{'names': 'PEDRO'}\n",
      "{'names': 'MIGUEL ANGEL'}\n",
      "{'names': 'ANGEL'}\n",
      "{'names': 'JOSE MARIA'}\n",
      "{'names': 'FERNANDO'}\n",
      "{'names': 'PABLO'}\n",
      "{'names': 'LUIS'}\n",
      "{'names': 'SERGIO'}\n",
      "{'names': 'JORGE'}\n"
     ]
    }
   ],
   "source": [
    "import csv\n",
    "file =  open('./name.csv','r')\n",
    "mycsv= csv.DictReader(file,delimiter=',')\n",
    "nameList = []\n",
    "for row in mycsv:\n",
    "    print(row)\n",
    "# link"
   ]
  },
  {
   "cell_type": "code",
   "execution_count": 10,
   "metadata": {},
   "outputs": [
    {
     "data": {
      "text/plain": [
       "'https://us06web.zoom.us/wc/join/88555907219?pwd='"
      ]
     },
     "execution_count": 10,
     "metadata": {},
     "output_type": "execute_result"
    }
   ],
   "source": [
    "import csv\n",
    "file =  open('./details.csv','r')\n",
    "mycsv= csv.DictReader(file,delimiter=',')\n",
    "for row in mycsv:\n",
    "        mycsv= row\n",
    "if (mycsv['webinar']=='yes'):\n",
    "        link = 'https://us06web.zoom.us/wc/join/'+str(mycsv['meetingID'])+'?pwd='+str(mycsv['password'])\n",
    "else:\n",
    "        link = 'https://us05web.zoom.us/wc/join/'+str(mycsv['meetingID'])+'?pwd='+str(mycsv['password'])\n",
    "link"
   ]
  },
  {
   "cell_type": "code",
   "execution_count": null,
   "metadata": {},
   "outputs": [],
   "source": [
    "# from selenium.webdriver import Firefox\n",
    "# from selenium.webdriver.firefox.service import Service\n",
    "# from selenium.webdriver.firefox.options import Options\n",
    "\n",
    "# profile_path = r'/home/evans/.mozilla/firefox/64icgrsr.default'\n",
    "# options=Options()\n",
    "# options.set_preference('profile', profile_path)\n",
    "# service = Service(r'/usr/bin/geckodriver')\n",
    "\n",
    "# driver = Firefox(service=service, options=options)\n",
    "\n"
   ]
  },
  {
   "cell_type": "code",
   "execution_count": 4,
   "metadata": {},
   "outputs": [
    {
     "name": "stderr",
     "output_type": "stream",
     "text": [
      "/tmp/ipykernel_12086/3119887563.py:1: DeprecationWarning: executable_path has been deprecated, please pass in a Service object\n",
      "  driver = webdriver.Chrome('/usr/bin/chromedriver')\n"
     ]
    }
   ],
   "source": [
    "driver = webdriver.Chrome('/usr/bin/chromedriver')"
   ]
  },
  {
   "cell_type": "code",
   "execution_count": 5,
   "metadata": {},
   "outputs": [],
   "source": [
    "url = 'https://us05web.zoom.us/wc/join/89998848592?wpk=wcpk%7B0%7D%26%26%26%26wcpk819554f1b79f7fbf6496cf110094eb22&_x_zm_rtaid=LkkpNLSbS4uwu0JfW3qTLw.1663072624991.9645b221834e96a1c1bb039864cc9f09&_x_zm_rhtaid=939'\n",
    "driver.get(link)\n"
   ]
  },
  {
   "cell_type": "code",
   "execution_count": null,
   "metadata": {},
   "outputs": [],
   "source": [
    "# from selenium.webdriver.support.ui import WebDriverWait\n",
    "# from selenium.webdriver.support import expected_conditions as EC\n"
   ]
  },
  {
   "cell_type": "code",
   "execution_count": null,
   "metadata": {},
   "outputs": [],
   "source": [
    "# WebDriverWait(driver, 10).until(EC.frame_to_be_available_and_switch_to_it((By.NAME,\"AppBody\")))\n"
   ]
  },
  {
   "cell_type": "code",
   "execution_count": null,
   "metadata": {},
   "outputs": [],
   "source": [
    "# alert = WebDriverWait(driver, 10).until(EC.alert_is_present())\n",
    "# text = alert.text\n",
    "# text\n",
    "# Click the link to activate the alert\n",
    "# driver.find_element(By.LINK_TEXT, \"See a sample confirm\").click()\n",
    "\n",
    "# # Wait for the alert to be displayed\n",
    "# wait.until(expected_conditions.alert_is_present())\n",
    "\n",
    "# # Store the alert in a variable for reuse\n",
    "# alert = driver.switch_to.alert\n",
    "\n",
    "# Store the alert text in a variable\n",
    "# text = alert.text\n",
    "\n",
    "# # Press the Cancel button\n",
    "# alert.dismiss()\n",
    "  "
   ]
  },
  {
   "cell_type": "code",
   "execution_count": 6,
   "metadata": {},
   "outputs": [],
   "source": [
    "time.sleep(5)\n",
    "text_box = driver.find_element(by=By.NAME, value=\"inputname\")\n",
    "submit_button = driver.find_element(by=By.ID, value=\"joinBtn\")\n",
    "\n"
   ]
  },
  {
   "cell_type": "code",
   "execution_count": 8,
   "metadata": {},
   "outputs": [],
   "source": [
    "from random import randint\n",
    "\n",
    "\n",
    "text_box.send_keys(\"Selenium\"+str(randint(1,100000)))\n",
    "submit_button.click()"
   ]
  },
  {
   "cell_type": "code",
   "execution_count": null,
   "metadata": {},
   "outputs": [],
   "source": [
    "driver.quit()"
   ]
  },
  {
   "cell_type": "code",
   "execution_count": null,
   "metadata": {},
   "outputs": [],
   "source": []
  },
  {
   "cell_type": "code",
   "execution_count": null,
   "metadata": {},
   "outputs": [],
   "source": []
  }
 ],
 "metadata": {
  "kernelspec": {
   "display_name": "Python 3.10.6 64-bit",
   "language": "python",
   "name": "python3"
  },
  "language_info": {
   "codemirror_mode": {
    "name": "ipython",
    "version": 3
   },
   "file_extension": ".py",
   "mimetype": "text/x-python",
   "name": "python",
   "nbconvert_exporter": "python",
   "pygments_lexer": "ipython3",
   "version": "3.10.6"
  },
  "orig_nbformat": 4,
  "vscode": {
   "interpreter": {
    "hash": "e7370f93d1d0cde622a1f8e1c04877d8463912d04d973331ad4851f04de6915a"
   }
  }
 },
 "nbformat": 4,
 "nbformat_minor": 2
}
